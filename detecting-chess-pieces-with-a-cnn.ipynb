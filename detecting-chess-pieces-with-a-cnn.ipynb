{
 "cells": [
  {
   "cell_type": "markdown",
   "metadata": {},
   "source": [
    "# Detecting Chess Pieces with a Convolutional Neural Network\n",
    "\n",
    "### Project Inspiration \n",
    "\n",
    "We found an article written by a popular website, Towards Data Science. The author of this article, Andrew Underwood, trained a convolutional neural network (CNN) to classify chess pieces from pictures of a chess board.  Underwood uses a data-set he collected himself: he repeatedly photographed the same chess-set from the same angle and changed the pieces on the board between shots. Next, he cropped the images into separate pieces. The number of images of each piece is well balanced, in both black and white. Overall, there are 13 different kinds of pictures. For each black and white, there are bishops, knights, kings, queens, pawns and rooks, totalling twelve different figures. In addition images of empty boards were included. Overall a relatively small datatset of 2406 images was collected (Underwood, 2020).\n",
    "\n",
    "Underwood utilised *transfer learning* to overcome the limited size of his data-set and decrease training time. Using a pre-trained base allows you to achieve accurate results with a smaller data-set. We will also use this approach. The data was augmented using *ImageDataGenerator* (from the keras package of TensorFlow), which rotates, flips and re-scales the data to generate more training samples for the model. Using a data augmentation technique like this is likely to increase effectiveness.\n",
    "A convolutional neural network was trained to detect specific chess pieces and classify them in the right category. Eventually, the network was able to detect the figures seen in the 3D original images. After this, Underwood trained another CNN on different types of empty chessboards to be able to identify the 64 squares of the board. Combining this CNN of position with the CNN of the piece identification, Underwood created a neural network that could detect a complete board position from one image. In addition, Underwood made it such that this detection was transferred from a 3D original picture to a 2D digital replication of the original. For visualisation purposes, a picture is shown below.\n",
    "\n"
   ]
  },
  {
   "cell_type": "markdown",
   "metadata": {},
   "source": [
    "<figure>\n",
    "<img src=\"https://miro.medium.com/max/700/1*wKITWi9maBvBSpouXAJwFQ.png\" alt=\"Real chess pieces to computer chess pieces\">\n",
    "</figure>"
   ]
  },
  {
   "cell_type": "markdown",
   "metadata": {},
   "source": [
    "### Our Project \n",
    "\n",
    "Inspired by Underwood's project, we begun to think about a wider application of chess piece classification. During Corona, the popularity of chess has exploded (Nunn, 2021). More and more people are enjoying the game both in person and online. A game of chess can be a timely investment so we would like to develop a tool that could allow you to photograph your chess board and translate this into a FEN description. The FEN description could then be uploaded to a chess website where the game could continue between the two players online. \n",
    "\n",
    "In this short project we seek to fulfill stage one of this pipeline: accurate chess piece classification from a photograph of a board. In the following report we will introduce Underwood's dataset, train a convolutional neural network on it and analyse the model's performance. Finally, we will collect our own small dataset of different chess pieces on different boards. We assess how our model generalises to different data."
   ]
  },
  {
   "cell_type": "markdown",
   "metadata": {},
   "source": [
    "## 1. Importing packages\n",
    "First we need to import the packages we are going to need for this project and set some standards for our plots. Below you can see the packages and functions that are used for this project. Code for Matlib defaults was adapted from (Cook & Holbrook, n.d)"
   ]
  },
  {
   "cell_type": "code",
   "execution_count": 3,
   "metadata": {
    "_cell_guid": "b1076dfc-b9ad-4769-8c92-a6c4dae69d19",
    "_uuid": "8f2839f25d086af736a60e9eeb907d3b93b6e0e5"
   },
   "outputs": [
    {
     "ename": "ModuleNotFoundError",
     "evalue": "No module named 'tensorflow.keras.layers.experimental'",
     "output_type": "error",
     "traceback": [
      "\u001b[0;31m---------------------------------------------------------------------------\u001b[0m",
      "\u001b[0;31mModuleNotFoundError\u001b[0m                       Traceback (most recent call last)",
      "Cell \u001b[0;32mIn[3], line 26\u001b[0m\n\u001b[1;32m     24\u001b[0m \u001b[38;5;28;01mfrom\u001b[39;00m \u001b[38;5;21;01mtensorflow\u001b[39;00m \u001b[38;5;28;01mimport\u001b[39;00m keras\n\u001b[1;32m     25\u001b[0m \u001b[38;5;28;01mfrom\u001b[39;00m \u001b[38;5;21;01mtensorflow\u001b[39;00m\u001b[38;5;21;01m.\u001b[39;00m\u001b[38;5;21;01mkeras\u001b[39;00m \u001b[38;5;28;01mimport\u001b[39;00m layers\n\u001b[0;32m---> 26\u001b[0m \u001b[38;5;28;01mfrom\u001b[39;00m \u001b[38;5;21;01mtensorflow\u001b[39;00m\u001b[38;5;21;01m.\u001b[39;00m\u001b[38;5;21;01mkeras\u001b[39;00m\u001b[38;5;21;01m.\u001b[39;00m\u001b[38;5;21;01mlayers\u001b[39;00m\u001b[38;5;21;01m.\u001b[39;00m\u001b[38;5;21;01mexperimental\u001b[39;00m \u001b[38;5;28;01mimport\u001b[39;00m preprocessing\n\u001b[1;32m     27\u001b[0m \u001b[38;5;28;01mfrom\u001b[39;00m \u001b[38;5;21;01mtensorflow\u001b[39;00m\u001b[38;5;21;01m.\u001b[39;00m\u001b[38;5;21;01mkeras\u001b[39;00m\u001b[38;5;21;01m.\u001b[39;00m\u001b[38;5;21;01mpreprocessing\u001b[39;00m \u001b[38;5;28;01mimport\u001b[39;00m image_dataset_from_directory\n\u001b[1;32m     28\u001b[0m \u001b[38;5;28;01mfrom\u001b[39;00m \u001b[38;5;21;01mtensorflow\u001b[39;00m\u001b[38;5;21;01m.\u001b[39;00m\u001b[38;5;21;01mkeras\u001b[39;00m\u001b[38;5;21;01m.\u001b[39;00m\u001b[38;5;21;01mcallbacks\u001b[39;00m \u001b[38;5;28;01mimport\u001b[39;00m EarlyStopping\n",
      "\u001b[0;31mModuleNotFoundError\u001b[0m: No module named 'tensorflow.keras.layers.experimental'"
     ]
    }
   ],
   "source": [
    "# Imports\n",
    "\n",
    "# For displaying images\n",
    "from IPython.display import Image \n",
    "\n",
    "# For plotting figures\n",
    "import matplotlib.pyplot as plt\n",
    "from matplotlib import gridspec\n",
    "\n",
    "# For array and matrix data structures\n",
    "import numpy as np\n",
    "\n",
    "# For data manipulation and analysis\n",
    "import pandas as pd\n",
    "\n",
    "# For the confusion matrix\n",
    "import seaborn as sns\n",
    "from sklearn.metrics import confusion_matrix\n",
    "from sklearn.metrics import classification_report\n",
    "from sklearn.metrics import accuracy_score\n",
    "\n",
    "# For computing the neural network and preprocessing\n",
    "import tensorflow as tf\n",
    "from tensorflow import keras\n",
    "from tensorflow.keras import layers\n",
    "from tensorflow.keras.layers.experimental import preprocessing\n",
    "from tensorflow.keras.preprocessing import image_dataset_from_directory\n",
    "from tensorflow.keras.callbacks import EarlyStopping\n",
    "from keras.applications.vgg16 import VGG16\n",
    "\n",
    "# Set Matplotlib defaults such that plots are bigger and labels are more clear\n",
    "plt.rc('figure', autolayout=True)\n",
    "plt.rc('axes', labelweight='bold', labelsize='large',\n",
    "      titleweight='bold', titlesize=18, titlepad=10)\n",
    "plt.rc('image', cmap='magma')"
   ]
  },
  {
   "cell_type": "markdown",
   "metadata": {},
   "source": [
    "## 2. Loading in the data\n",
    "\n",
    "We load in our data using the function image_dataset_from_directory. This function loads in the images, while keeping the map structure in the data and transforms these maps into classes. In our case we have a trainingset of 13 maps which will be transformed in a dataset with 13 classes. We use interpolation is equal to nearest because we have rather small images and this is a good way to utlize their information (Hunter et al., 2021). Shuffle makes it so that the data is randomized. This way of using the function image_dataset_from_directory was was inspired by Cook & Holbrook (n.d). "
   ]
  },
  {
   "cell_type": "code",
   "execution_count": null,
   "metadata": {},
   "outputs": [],
   "source": [
    "# Load in the training data\n",
    "ds_train = image_dataset_from_directory(\n",
    "    '../input/data-train/train',\n",
    "    labels='inferred',         # same labels as map labels\n",
    "    label_mode='categorical',  # categorical data\n",
    "    image_size=[224, 224],\n",
    "    interpolation='nearest',   # used for small image size\n",
    "    batch_size=32,\n",
    "    shuffle=True,              # classes are randomized\n",
    ")\n",
    "\n",
    "# Load in the validation data\n",
    "ds_valid = image_dataset_from_directory(\n",
    "    '../input/data-valid/valid',\n",
    "    labels='inferred',         # same labels as map labels\n",
    "    label_mode='categorical',  # categorical data\n",
    "    image_size=[224, 224],\n",
    "    interpolation='nearest',   # used for small image size\n",
    "    batch_size=32,\n",
    "    shuffle=True,              # classes are randomized\n",
    ")\n",
    "\n",
    "# Load in the test data\n",
    "ds_test = image_dataset_from_directory(\n",
    "    '../input/data-test/test',\n",
    "    labels='inferred',         # same labels as map labels\n",
    "    label_mode='categorical',  # categorical data\n",
    "    image_size=[224, 224],\n",
    "    interpolation='nearest',   # used for small image size\n",
    "    batch_size=32,\n",
    "    shuffle=True,              # classes are randomized\n",
    ")"
   ]
  },
  {
   "cell_type": "markdown",
   "metadata": {},
   "source": [
    "#### Converting Images to floats\n",
    "\n",
    "To make sure all images are in the same format, we normalize the images with the created function: convert_to_float. The code for the  convert_to_float function was adapted from (Cook & Holbrook, n.d)."
   ]
  },
  {
   "cell_type": "code",
   "execution_count": null,
   "metadata": {},
   "outputs": [],
   "source": [
    "# Converting tf.uint8 to type float to normalize the images\n",
    "def convert_to_float(image, label):\n",
    "    image = tf.image.convert_image_dtype(image, dtype=tf.float32)\n",
    "    return image, label\n",
    "AUTOTUNE = tf.data.experimental.AUTOTUNE\n",
    "\n",
    "# normalize images from the training data\n",
    "ds_train = (\n",
    "    ds_train\n",
    "    .map(convert_to_float)\n",
    "    .cache()\n",
    "    .prefetch(buffer_size=AUTOTUNE)\n",
    ")\n",
    "\n",
    "# normalize images from the validation data\n",
    "ds_valid = (\n",
    "    ds_valid\n",
    "    .map(convert_to_float)\n",
    "    .cache()\n",
    "    .prefetch(buffer_size=AUTOTUNE)\n",
    ")\n",
    "\n",
    "# normalize images from the test data\n",
    "ds_test = (\n",
    "    ds_test\n",
    "    .map(convert_to_float)\n",
    "    .cache()\n",
    "    .prefetch(buffer_size=AUTOTUNE)\n",
    ")"
   ]
  },
  {
   "cell_type": "markdown",
   "metadata": {},
   "source": [
    "## 3. Look at the data\n",
    "\n",
    "The dataset contains 2406 images of chess pieces which have been classified into 13 categories: kings, queens, bishops, knights, rooks and pawns in both black and white pieces. This makes up 12 categories. Then we have a 13th category of images of empty boards. The images were photographed from a \"first person view\", as if you were sitting at the chess board. They were taken on a GoPro camera. See below for an example of the images in the dataset.\n",
    "\n",
    "#### Empty Boards\n",
    "- We include images of empty boards because the model must also classify the absence of a piece on a square as well as it classifies the presence of a piece on a square. Below you can see an example of an image of the empty chess board.\n",
    "\n",
    "#### Background pieces \n",
    "- In some of the images other pieces are visible in the background. To begin with, we considered removing these images from our dataset because it would likely improve our accuracy and could be a point of confusion for the model. However, keeping the overall use case of our network in mind, we realised that the model will need to be able to distinguish individual pieces with other pieces cluttering the background - rarely will you take a photograph of a board with only one piece on it. Therefore we retained these images in our dataset. Below you can see an example of an image with a secondary piece in the background. "
   ]
  },
  {
   "cell_type": "code",
   "execution_count": null,
   "metadata": {
    "_kg_hide-input": true
   },
   "outputs": [],
   "source": [
    "Image(filename=\"../input/picture-data/data example.jpeg\", width = 700)"
   ]
  },
  {
   "cell_type": "markdown",
   "metadata": {},
   "source": [
    "#### Splitting the data\n",
    "\n",
    "In his book, Introduction to Deep Learning, Skansi suggests the following is a standard split for data in deep learning:\n",
    "- 80% training set\n",
    "- 10% validation set\n",
    "- 10% test set\n",
    "\n",
    "The model will be trained on 80% of the data. This amounts to 1936 images. A convolutional neural network has a number of hyperparameters. There is no way to determine these automatically, therefore, they must be tuned manually.\n",
    "\n",
    "The hyperparameters will be tuned using a validation set of 236 images. We will choose a set of hyperparameters for the model and then test the model on the validation set. Upon assessing the performance of the model on the validation set, we will change the hyperparameters again, re-train the model and then test on the validation set again. We will repeat this until we are satisfied with our hyperparameters.  We are concerned that our validation set is quite small. This may affect our hyperparameter tuning and so we will keep this in mind.\n",
    "\n",
    "Re-training and testing on the same dataset can lead to overfitting. This is why we hold a further 10% of the data back as a test set (234 images). We only use the test set once we are happy with our model. This will give us an unbiased assessment of our model performance on data it has never seen.\n",
    "\n",
    "See below for a frequency table of our dataset and the amount of images per category. One noticeable thing is that there were fewer images of kings included in the dataset compared to the other categories. This is something we will keep in mind when assessing the results of our model.\n",
    "\n",
    "The function get_labels_from_tfdataset was retrieved from stackoverflow (Stack Overflow, n.d). It takes a given chess data set as an input and returns an array with a value of one for the category it belongs to and a value of 0 for all other categories. Then we get the labels by selecting only the columns where a 1 is present. These are the labels which range from 0 to 12 (13 total categories). These are the labels that correspond to the actual chess pieces. This function will be used multiple times throughout this notebook. Deriving the counts of a table in this way was inspired by kite.com (\"Code faster with line-of-code completions, cloudless processing,\" n.d.) and adapted to our purposes."
   ]
  },
  {
   "cell_type": "code",
   "execution_count": null,
   "metadata": {},
   "outputs": [],
   "source": [
    "# Here we define a function which gets the labels of our dataset\n",
    "def get_labels_from_tfdataset(tfdataset, batched=False):\n",
    "    labels = list(map(lambda x: x[1], tfdataset))           # Get labels \n",
    "    if not batched:\n",
    "        return tf.concat(labels, axis=0)                    # concat the list of batched labels\n",
    "    return labels\n",
    "\n",
    "# counts of the training data\n",
    "array_train = get_labels_from_tfdataset(ds_train)\n",
    "# getting the true labels\n",
    "y_true_train = np.argmax(array_train,axis=1)\n",
    "unique,counts= np.unique(y_true_train, return_counts = True)\n",
    "unique = ['Bishop', 'King', \"Knight\", \"Pawn\", \"Queen\", \"Rook\", \"Empty\", \"Bishop\", \"King\", \"Knight\", \"Pawn\", \"Queen\", \"Rook\"]\n",
    "color = ['Black', 'Black', \"Black\", \"Black\", \"Black\", \"Black\", \"None\", \"White\", \"White\", \"White\", \"White\", \"White\", \"White\"]\n",
    "np.asarray((unique,counts)).T\n",
    "frequency_table_train = pd.DataFrame(data=np.asarray((color,unique,counts)).T, columns=[\"color\",'figure','count'])\n",
    "\n",
    "# counts of the validation data\n",
    "array_valid = get_labels_from_tfdataset(ds_valid)\n",
    "# getting the true labels\n",
    "y_true_valid = np.argmax(array_valid,axis=1)\n",
    "unique,counts= np.unique(y_true_valid, return_counts = True)\n",
    "unique = ['Bishop', 'King', \"Knight\", \"Pawn\", \"Queen\", \"Rook\", \"Empty\", \"Bishop\", \"King\", \"Knight\", \"Pawn\", \"Queen\", \"Rook\"]\n",
    "color = ['Black', 'Black', \"Black\", \"Black\", \"Black\", \"Black\", \"None\", \"White\", \"White\", \"White\", \"White\", \"White\", \"White\"]\n",
    "np.asarray((unique,counts)).T\n",
    "frequency_table_test = pd.DataFrame(data=np.asarray((color,unique,counts)).T, columns=[\"color\",'figure','count'])\n",
    "\n",
    "# counts of the test data\n",
    "array_test = get_labels_from_tfdataset(ds_test)\n",
    "# getting the true labels\n",
    "y_true_test = np.argmax(array_test,axis=1)\n",
    "unique,counts= np.unique(y_true_test, return_counts = True)\n",
    "unique = ['Bishop', 'King', \"Knight\", \"Pawn\", \"Queen\", \"Rook\", \"Empty\", \"Bishop\", \"King\", \"Knight\", \"Pawn\", \"Queen\", \"Rook\"]\n",
    "color = ['Black', 'Black', \"Black\", \"Black\", \"Black\", \"Black\", \"None\", \"White\", \"White\", \"White\", \"White\", \"White\", \"White\"]\n",
    "np.asarray((unique,counts)).T\n",
    "frequency_table_valid = pd.DataFrame(data=np.asarray((color,unique,counts)).T, columns=[\"color\",'figure','count'])\n",
    "\n",
    "# table of all counts\n",
    "pd.concat([frequency_table_train, frequency_table_test[\"count\"], frequency_table_valid[\"count\"]], keys=['Train', 'Test', 'Valid'], axis=1)"
   ]
  },
  {
   "cell_type": "markdown",
   "metadata": {},
   "source": [
    "## 4. Data augmentation\n",
    "\n",
    "Data augmentation makes it so that all the training images are replicated and distorted in various ways. These images are distorted in such a way that they can still be recognised by humans. Types of distortions include flipping the images horizontally or vertically, zooming into the image, making rotations and varying the contrast levels.  \n",
    "An advantage of implementing this process in our project is that it increases the size of the training set so that the model is trained on a larger sample of data. Another benefit is that the images are more varied and this helps against overfitting as well as accounting for different situations the chess pieces are found in the real world.\n",
    "\n",
    "We experimented with the following methods of augmenting the data.\n",
    "\n",
    "- vary the contrast of the images \n",
    "- flip the images horizontally \n",
    "- stretch the images horizontally \n",
    "- move the images vertically\n",
    "\n",
    "Some methods did not make sense for our specific case. For example, conducting a vertical flip would not make sense since the model wouldn’t encounter upside down pieces in our use case. Whereas, flipping the images horizontally does make sense. For example, flipping images of the knight piece horizontally exposes the model to what the knight looks like from the other side.\n",
    "\n",
    "After experimenting with different augmentation methods we found that the following methods were useful for our project: flipping horizontally, stretching vertically and applying a random translation which shifts both vertically and horizontally. See below for an example of these augmentations."
   ]
  },
  {
   "cell_type": "code",
   "execution_count": null,
   "metadata": {
    "_kg_hide-input": true
   },
   "outputs": [],
   "source": [
    "Image(filename=\"../input/augmentation-example/data_augmentation.jpeg\", width = 700)"
   ]
  },
  {
   "cell_type": "markdown",
   "metadata": {},
   "source": [
    "## 5. Defining the Model\n",
    "\n",
    "### 5.1 The Pretrained Base\n",
    "\n",
    "In our model we make use of a process called **transfer learning**. Transfer learning in CNNs involves taking a model which has been trained on a large dataset and transferring its knowledge to a smaller dataset.  \n",
    "\n",
    "We have decided to do this for two reasons - firstly because of the limited size of our dataset. After removing a validation and testing set, we are left with only 1936 images to train our model on. This is unlikely to produce particularly accurate classifications. We can use a pre-trained model which has been trained on a much larger dataset and then tuned it to our specific task. \n",
    "\n",
    "Using pre-trained models is very popular in computer vision. Models such as *resnet50*  have been trained \n",
    "on enormous datasets. We do not have access to such volumes of data, nor the time or processing power \n",
    "to use them. Therefore, we will use the pre-trained base **VGG16**, freeze the early convolutional layers \n",
    "of its network and only train the last few layers on our specific dataset.\n",
    "\n",
    "VGG16 is a convolutional neural network model which has been trained by Simonyan and Zisserman (2014). The network was trained on **ImageNet** which is a dataset containing over 15 million images. VGG16 is composed of 13 convolutional layers, 5 max pooling layers and 3 fully connected layers. In total that makes 16 layers. \n",
    "In the early layers, the network identifies low-level features such as small edges or patches of colour. The low-level features are combined to form high level features in the later layers of the network. The classification of inputs is then determined by the presence or absence of these higher level features (James, 2013). We will use VGG16 as a base and create our own head to train the images from the training data. "
   ]
  },
  {
   "cell_type": "code",
   "execution_count": null,
   "metadata": {},
   "outputs": [],
   "source": [
    "pretrained_base = VGG16(weights='imagenet', include_top=False, input_shape=(224,224,3))\n",
    "pretrained_base.summary()\n",
    "pretrained_base.trainable = False"
   ]
  },
  {
   "cell_type": "markdown",
   "metadata": {},
   "source": [
    "### 5.2 The Head\n",
    "\n",
    "To create the head of the model, we looked what Underwood (2020) created for a head in his network model on the same chess dataset. Underwood created 2 layers with 500 nodes, image size [224,224] and batch size 32. However he did not explain any of his parameters so we started out with his head and then experimented with the head of the model to find the best parameters. \n",
    "\n",
    "- For **image size** we started with [224,224]. We experimented with using smaller sizes like [112,112] but this descreased the accuracy a little. Higher sizes than [224,224] did not seem to have an effect on the model. Therefore we decided to stick with image size [224,224]. \n",
    "- We added **batch normalization** layers within the model such that variables that come into these layers were recaled and normalized. This did not necessarily increase the model's performance but it did make it so fewer epochs were needed to complete training. This decreased the number of epochs and thus the runtime of the training.\n",
    "-  For **batch size** we started out with 32. Samll batch sizes make it such that training the model goes faster, while also requiring less working memory. However a disadvantage of a small batch size is that small batches  tend to give less accurate estimates of the gradients (Stewart, 2019). We tried out a lower batch size of 16, but this showed more variability in accuracy and loss instead of steadily converging. A higher batch size of 64 made the model compilation run slower without increasing the accuracy of the model. Thus we decided to stick with batch sizes of 32 (speficied when loading in the data).\n",
    "- The model was very prone to overfitting and showed a training accuracy of 100%, while the validation accuracy would stay at 93%. **Dropout rate** was introduced to combat this overfitting and try to keep the training perfomance more in line with the validation performance. A dropout rate of .2 or .3 was too low to keep the model from overfitting, while a dropout rate of .5 or .6 was too high  such that the model became more prone to underfit. A dropout rate of .4 gave the best trade-off between overfit and underfit and was therefore chosen to be the dropout rate of the model.\n",
    "- Same **padding** was used to include information at the edges of the image. Same padding did not change much about the performance compared to valid padding, but might be useful to identify the square of the pieces in the final network model. That is why same padding was kept in the model. \n",
    "- Just like padding, the **kernel size** is also very useful to dictate which pixels are more important than other pixels. Most of the time the more important features of an image are in the centre of the image for which a kernel of 3 or 5 is often used. After trying both a kernel of 3 and 5, we found that a kernel of 3 performed a bit more consistent overall.\n",
    "- The **activation function** is a way to dictate how information is moved through the network as well as how information ends up after the network. The default activation function between layers is the ReLu function, which sets all values below zero to zero. This way it makes is so that everything that is unimportant is equally unimportant, while there are differences between important pixels. Just like all activation functions it creates a nonlinear seperation bound, which is necessary for accurate predictions. The softmax activation function is used for the output layer. This is a function that predicts a multinomial probability distribution and is therefore used in problems with more than 2 classes. In this case we have 13 classes so the softmax function is used. Based on the image, it will give a probability to each of the 13 classes and choose the class with the highest probability.\n",
    "\n",
    "- The decision concerning **capacity** of the model, the **depth** and **width** of the network, was a difficult task. We started out with the 2 hidden layer head (4 layers total with the base layer and output layer) of Underwood (2020). Both layers had a width of 500 nodes. No explanation of this type of layering was given so we tried many combinations of different widths and depths to perfect our model performance. Many types of networks were tried, but in general a trend was observed where networks with a depth of more than 2 were too prone to overfitting, while not increasing the model performance. A depth of 1 layer decreased the accuracy of the model a little (~3-4%). A model with a depth of 2 was found to be best option. The width of 500 or more was more prone to overfitting while not increasing model performance compared to models with a lower width. Models with different variations of widths were tried, where out of all the models we tried, we found a layering of width 256 for both hidden layers to give the best perfomance, while also be the least prone to overfitting. Thus the head of this CNN was comprised of 2 hidden layers with a width of 256 nodes and an output layer of 13 nodes (all the probabilities for the different classes)   \n",
    "\n",
    "- The output layer is comprised of 13 layers which represent the different classes of chess pieces. This neural network tries to utilize its base and head in such a way that it gives a probability a classification of a picture into one of the 13 classes can be made.  "
   ]
  },
  {
   "cell_type": "code",
   "execution_count": null,
   "metadata": {},
   "outputs": [],
   "source": [
    "model = tf.keras.Sequential([\n",
    "       \n",
    "    # DATA AUGMENTATION\n",
    "    preprocessing.RandomContrast(factor=0.5), # lighter/darker colors\n",
    "    preprocessing.RandomFlip(mode='horizontal'), # left-to-right\n",
    "    preprocessing.RandomTranslation(height_factor=0.1, width_factor=0.1), # height decreased\n",
    "        \n",
    "    # BASE\n",
    "    pretrained_base,\n",
    "    \n",
    "    # HEAD\n",
    "    \n",
    "    # Block 1\n",
    "    layers.BatchNormalization(renorm=True),\n",
    "    layers.Conv2D(filters=256, kernel_size=3, activation='relu', padding='same'),\n",
    "   \n",
    "    # Block 2 \n",
    "    layers.Conv2D(filters=256, kernel_size=3, activation='relu', padding='same'),\n",
    "    tf.keras.layers.GlobalMaxPooling2D(),\n",
    "    layers.Dropout(0.4),\n",
    "\n",
    "    # Output\n",
    "    layers.BatchNormalization(renorm=True),\n",
    "    layers.Dense(13, activation='softmax'),\n",
    "])\n",
    "\n",
    "# Specifying when the model should stop its training process\n",
    "early_stopping = EarlyStopping(\n",
    "    min_delta = 0.001,           # minimium amount of change to count as an improvement\n",
    "    patience = 30,               # how many epochs to wait before stopping\n",
    "    restore_best_weights = True, # restore the weights to model with the lowest validation loss\n",
    ")\n",
    "\n",
    "# Specifing the Adam optimizer as our optimizer function\n",
    "optimizer = tf.keras.optimizers.Adam(epsilon=0.001)\n",
    "\n",
    "# Model compilation\n",
    "model.compile(\n",
    "    optimizer= optimizer,\n",
    "    loss='categorical_crossentropy',\n",
    "    metrics=['categorical_accuracy'],\n",
    ")"
   ]
  },
  {
   "cell_type": "markdown",
   "metadata": {},
   "source": [
    "### 5.3 Early Stopping and Model Compilation\n",
    "\n",
    "We found that after training a neural network, the last trained weights (from the last epoch) were chosen as the final model. We did not want the last model to be picked as the final model because this model is almost always one that has overfit on the training data. Instead we wanted to pick the model based on either the lowest validation loss or the highest validation accuracy. Such a model would catch the most signal and the least amount of noise. A low validation loss means that the network is more sure of its predictions and high validation accuracy means that most images were correctly classified. We decided to go with validation loss because it would focus more explicitly on finding networks with confidence in their predictions and thus less chance of overfitting. Also, our validation set is quite small so focussing on validation accuracy rather than loss, could make the model overfit on the validation set and capture more noise than to signal. To select the model with the lowest validation loss, we used **Early Stopping**. Early stopping is a way to stop the training process by checking if a certain condition is met. In our case we want to stop when the validation loss when it is not decreasing anymore. We selected a delta of 0.001 (minimium amount of change to count as an improvement), which was low enough to make sure we were not underfitting the model. We chose 30 as the patience of the model which means that the model has to wait 30 epochs before stopping the training process. 30 was a good number as it was most consistent with finding the best training weights without underfitting. The **epoch size** was determined by the amount of epochs the early stopping function needed to find the best training weights. The training process would be stopped after 30 epochs of no validation loss decrease so a high number of 200 was chosen as an epoch size. The full number of epochs would ofcourse never be reached.\n",
    "\n",
    "For model compilation we specified the Optimization function and the Loss function. The **optimization function** is a way to let the neural network know how to solve its problem. An optimization function that is used a lot in neural networks, is the Adam optimizer. It is an stochastich gradient descent algorithm that can change the learning rate of the model during the training process. In this way, the Adam optimizer can prevent the model to get stuck in a local minimum. We decided to use the Adam optimizer in this model. The **Loss function** is a way to let the network know what problem it is solving. The loss function measures the difference between the target's true value and the value predicted by the model. We are solving a multi-class classifcation problem so therefore we use categorical_crossentropy as our loss function. As a way to judge the performance of our model, we incorporate the categorical_accuracy with the metrics function."
   ]
  },
  {
   "cell_type": "markdown",
   "metadata": {},
   "source": [
    "## 6. Fitting the Model and Training Evaluation\n",
    "\n",
    "Now it is time to run our defined model and train it on the trainingset. After the model has been trained, the loss curve and accuracy curve of the model will be plotted. In this way we can observe how our model has been trained and if we are happy with the results of our training. At the end we look at the model that is selected from the training process and evaluate its metrics. We chose to keep the process of training the model in the output so that is more clear for the reader what is happening in this process.\n",
    "\n",
    "### 6.1 Fit the model"
   ]
  },
  {
   "cell_type": "code",
   "execution_count": 9,
   "metadata": {
    "execution": {
     "iopub.execute_input": "2024-03-22T13:13:59.845641Z",
     "iopub.status.busy": "2024-03-22T13:13:59.845305Z",
     "iopub.status.idle": "2024-03-22T13:19:20.795157Z",
     "shell.execute_reply": "2024-03-22T13:19:20.794500Z",
     "shell.execute_reply.started": "2024-03-22T13:13:59.845590Z"
    }
   },
   "outputs": [
    {
     "name": "stdout",
     "output_type": "stream",
     "text": [
      "Epoch 1/200\n",
      "61/61 [==============================] - 19s 128ms/step - loss: 2.4795 - categorical_accuracy: 0.2149 - val_loss: 1.5343 - val_categorical_accuracy: 0.4746\n",
      "Epoch 2/200\n",
      "61/61 [==============================] - 5s 75ms/step - loss: 1.4402 - categorical_accuracy: 0.5031 - val_loss: 0.7567 - val_categorical_accuracy: 0.7585\n",
      "Epoch 3/200\n",
      "61/61 [==============================] - 5s 75ms/step - loss: 0.9519 - categorical_accuracy: 0.6720 - val_loss: 0.4318 - val_categorical_accuracy: 0.8686\n",
      "Epoch 4/200\n",
      "61/61 [==============================] - 5s 75ms/step - loss: 0.9231 - categorical_accuracy: 0.7061 - val_loss: 0.4788 - val_categorical_accuracy: 0.8390\n",
      "Epoch 5/200\n",
      "61/61 [==============================] - 5s 75ms/step - loss: 0.6841 - categorical_accuracy: 0.7955 - val_loss: 0.4010 - val_categorical_accuracy: 0.8771\n",
      "Epoch 6/200\n",
      "61/61 [==============================] - 5s 75ms/step - loss: 0.5190 - categorical_accuracy: 0.8352 - val_loss: 0.3762 - val_categorical_accuracy: 0.8729\n",
      "Epoch 7/200\n",
      "61/61 [==============================] - 5s 75ms/step - loss: 0.3401 - categorical_accuracy: 0.8895 - val_loss: 0.2660 - val_categorical_accuracy: 0.9068\n",
      "Epoch 8/200\n",
      "61/61 [==============================] - 5s 75ms/step - loss: 0.4934 - categorical_accuracy: 0.8698 - val_loss: 0.3611 - val_categorical_accuracy: 0.8941\n",
      "Epoch 9/200\n",
      "61/61 [==============================] - 5s 75ms/step - loss: 0.3108 - categorical_accuracy: 0.8977 - val_loss: 0.2868 - val_categorical_accuracy: 0.9153\n",
      "Epoch 10/200\n",
      "61/61 [==============================] - 5s 75ms/step - loss: 0.2135 - categorical_accuracy: 0.9396 - val_loss: 0.3137 - val_categorical_accuracy: 0.8941\n",
      "Epoch 11/200\n",
      "61/61 [==============================] - 5s 75ms/step - loss: 0.1774 - categorical_accuracy: 0.9514 - val_loss: 0.2195 - val_categorical_accuracy: 0.9492\n",
      "Epoch 12/200\n",
      "61/61 [==============================] - 5s 75ms/step - loss: 0.2699 - categorical_accuracy: 0.9318 - val_loss: 0.2258 - val_categorical_accuracy: 0.9492\n",
      "Epoch 13/200\n",
      "61/61 [==============================] - 5s 75ms/step - loss: 0.1588 - categorical_accuracy: 0.9587 - val_loss: 0.2340 - val_categorical_accuracy: 0.9407\n",
      "Epoch 14/200\n",
      "61/61 [==============================] - 5s 75ms/step - loss: 0.1368 - categorical_accuracy: 0.9644 - val_loss: 0.2214 - val_categorical_accuracy: 0.9364\n",
      "Epoch 15/200\n",
      "61/61 [==============================] - 5s 75ms/step - loss: 0.1510 - categorical_accuracy: 0.9587 - val_loss: 0.2389 - val_categorical_accuracy: 0.9322\n",
      "Epoch 16/200\n",
      "61/61 [==============================] - 5s 75ms/step - loss: 0.3183 - categorical_accuracy: 0.9437 - val_loss: 0.3126 - val_categorical_accuracy: 0.9068\n",
      "Epoch 17/200\n",
      "61/61 [==============================] - 5s 75ms/step - loss: 0.1489 - categorical_accuracy: 0.9607 - val_loss: 0.2347 - val_categorical_accuracy: 0.9322\n",
      "Epoch 18/200\n",
      "61/61 [==============================] - 5s 75ms/step - loss: 0.1376 - categorical_accuracy: 0.9623 - val_loss: 0.2519 - val_categorical_accuracy: 0.9153\n",
      "Epoch 19/200\n",
      "61/61 [==============================] - 5s 75ms/step - loss: 0.1274 - categorical_accuracy: 0.9623 - val_loss: 0.2278 - val_categorical_accuracy: 0.9407\n",
      "Epoch 20/200\n",
      "61/61 [==============================] - 5s 75ms/step - loss: 0.0884 - categorical_accuracy: 0.9742 - val_loss: 0.2251 - val_categorical_accuracy: 0.9449\n",
      "Epoch 21/200\n",
      "61/61 [==============================] - 5s 75ms/step - loss: 0.0809 - categorical_accuracy: 0.9814 - val_loss: 0.1988 - val_categorical_accuracy: 0.9534\n",
      "Epoch 22/200\n",
      "61/61 [==============================] - 5s 75ms/step - loss: 0.0600 - categorical_accuracy: 0.9855 - val_loss: 0.1985 - val_categorical_accuracy: 0.9449\n",
      "Epoch 23/200\n",
      "61/61 [==============================] - 5s 75ms/step - loss: 0.0605 - categorical_accuracy: 0.9830 - val_loss: 0.2088 - val_categorical_accuracy: 0.9407\n",
      "Epoch 24/200\n",
      "61/61 [==============================] - 5s 75ms/step - loss: 0.0617 - categorical_accuracy: 0.9850 - val_loss: 0.2036 - val_categorical_accuracy: 0.9449\n",
      "Epoch 25/200\n",
      "61/61 [==============================] - 5s 75ms/step - loss: 0.0690 - categorical_accuracy: 0.9835 - val_loss: 0.1983 - val_categorical_accuracy: 0.9492\n",
      "Epoch 26/200\n",
      "61/61 [==============================] - 5s 75ms/step - loss: 0.0629 - categorical_accuracy: 0.9850 - val_loss: 0.2085 - val_categorical_accuracy: 0.9449\n",
      "Epoch 27/200\n",
      "61/61 [==============================] - 5s 75ms/step - loss: 0.0585 - categorical_accuracy: 0.9850 - val_loss: 0.1992 - val_categorical_accuracy: 0.9364\n",
      "Epoch 28/200\n",
      "61/61 [==============================] - 5s 75ms/step - loss: 0.0393 - categorical_accuracy: 0.9907 - val_loss: 0.1890 - val_categorical_accuracy: 0.9364\n",
      "Epoch 29/200\n",
      "61/61 [==============================] - 5s 75ms/step - loss: 0.0681 - categorical_accuracy: 0.9809 - val_loss: 0.2289 - val_categorical_accuracy: 0.9364\n",
      "Epoch 30/200\n",
      "61/61 [==============================] - 5s 75ms/step - loss: 0.0697 - categorical_accuracy: 0.9814 - val_loss: 0.2104 - val_categorical_accuracy: 0.9449\n",
      "Epoch 31/200\n",
      "61/61 [==============================] - 5s 75ms/step - loss: 0.0539 - categorical_accuracy: 0.9866 - val_loss: 0.2331 - val_categorical_accuracy: 0.9364\n",
      "Epoch 32/200\n",
      "61/61 [==============================] - 5s 75ms/step - loss: 0.0405 - categorical_accuracy: 0.9912 - val_loss: 0.2536 - val_categorical_accuracy: 0.9322\n",
      "Epoch 33/200\n",
      "61/61 [==============================] - 5s 75ms/step - loss: 0.0466 - categorical_accuracy: 0.9866 - val_loss: 0.1872 - val_categorical_accuracy: 0.9534\n",
      "Epoch 34/200\n",
      "61/61 [==============================] - 5s 75ms/step - loss: 0.0362 - categorical_accuracy: 0.9917 - val_loss: 0.1782 - val_categorical_accuracy: 0.9576\n",
      "Epoch 35/200\n",
      "61/61 [==============================] - 5s 75ms/step - loss: 0.0382 - categorical_accuracy: 0.9912 - val_loss: 0.2409 - val_categorical_accuracy: 0.9280\n",
      "Epoch 36/200\n",
      "61/61 [==============================] - 5s 75ms/step - loss: 0.0367 - categorical_accuracy: 0.9897 - val_loss: 0.1987 - val_categorical_accuracy: 0.9534\n",
      "Epoch 37/200\n",
      "61/61 [==============================] - 5s 75ms/step - loss: 0.0526 - categorical_accuracy: 0.9861 - val_loss: 0.1664 - val_categorical_accuracy: 0.9703\n",
      "Epoch 38/200\n",
      "61/61 [==============================] - 5s 75ms/step - loss: 0.0557 - categorical_accuracy: 0.9824 - val_loss: 0.2541 - val_categorical_accuracy: 0.9322\n",
      "Epoch 39/200\n",
      "61/61 [==============================] - 5s 75ms/step - loss: 0.0482 - categorical_accuracy: 0.9876 - val_loss: 0.1937 - val_categorical_accuracy: 0.9492\n",
      "Epoch 40/200\n",
      "61/61 [==============================] - 5s 75ms/step - loss: 0.0417 - categorical_accuracy: 0.9886 - val_loss: 0.2208 - val_categorical_accuracy: 0.9534\n",
      "Epoch 41/200\n",
      "61/61 [==============================] - 5s 75ms/step - loss: 0.0528 - categorical_accuracy: 0.9845 - val_loss: 0.2022 - val_categorical_accuracy: 0.9364\n",
      "Epoch 42/200\n",
      "61/61 [==============================] - 5s 75ms/step - loss: 0.0486 - categorical_accuracy: 0.9840 - val_loss: 0.3022 - val_categorical_accuracy: 0.9110\n",
      "Epoch 43/200\n",
      "61/61 [==============================] - 5s 75ms/step - loss: 0.0545 - categorical_accuracy: 0.9845 - val_loss: 0.3131 - val_categorical_accuracy: 0.9068\n",
      "Epoch 44/200\n",
      "61/61 [==============================] - 5s 75ms/step - loss: 0.0564 - categorical_accuracy: 0.9809 - val_loss: 0.2471 - val_categorical_accuracy: 0.9407\n",
      "Epoch 45/200\n",
      "61/61 [==============================] - 5s 75ms/step - loss: 0.0365 - categorical_accuracy: 0.9917 - val_loss: 0.1935 - val_categorical_accuracy: 0.9534\n",
      "Epoch 46/200\n",
      "61/61 [==============================] - 5s 75ms/step - loss: 0.0426 - categorical_accuracy: 0.9892 - val_loss: 0.2206 - val_categorical_accuracy: 0.9407\n",
      "Epoch 47/200\n",
      "61/61 [==============================] - 5s 75ms/step - loss: 0.0254 - categorical_accuracy: 0.9938 - val_loss: 0.1770 - val_categorical_accuracy: 0.9576\n",
      "Epoch 48/200\n",
      "61/61 [==============================] - 5s 75ms/step - loss: 0.1471 - categorical_accuracy: 0.9695 - val_loss: 0.3252 - val_categorical_accuracy: 0.9280\n",
      "Epoch 49/200\n",
      "61/61 [==============================] - 5s 75ms/step - loss: 0.0830 - categorical_accuracy: 0.9778 - val_loss: 0.2342 - val_categorical_accuracy: 0.9534\n",
      "Epoch 50/200\n",
      "61/61 [==============================] - 5s 75ms/step - loss: 0.1063 - categorical_accuracy: 0.9685 - val_loss: 0.2118 - val_categorical_accuracy: 0.9492\n",
      "Epoch 51/200\n",
      "61/61 [==============================] - 5s 75ms/step - loss: 0.0522 - categorical_accuracy: 0.9855 - val_loss: 0.2197 - val_categorical_accuracy: 0.9449\n",
      "Epoch 52/200\n",
      "61/61 [==============================] - 5s 75ms/step - loss: 0.0322 - categorical_accuracy: 0.9912 - val_loss: 0.1918 - val_categorical_accuracy: 0.9576\n",
      "Epoch 53/200\n",
      "61/61 [==============================] - 5s 75ms/step - loss: 0.0594 - categorical_accuracy: 0.9845 - val_loss: 0.2242 - val_categorical_accuracy: 0.9576\n",
      "Epoch 54/200\n",
      "61/61 [==============================] - 5s 75ms/step - loss: 0.1396 - categorical_accuracy: 0.9700 - val_loss: 0.1989 - val_categorical_accuracy: 0.9703\n",
      "Epoch 55/200\n",
      "61/61 [==============================] - 5s 75ms/step - loss: 0.0512 - categorical_accuracy: 0.9845 - val_loss: 0.2072 - val_categorical_accuracy: 0.9534\n",
      "Epoch 56/200\n",
      "61/61 [==============================] - 5s 75ms/step - loss: 0.0388 - categorical_accuracy: 0.9907 - val_loss: 0.2002 - val_categorical_accuracy: 0.9576\n",
      "Epoch 57/200\n",
      "61/61 [==============================] - 5s 75ms/step - loss: 0.0251 - categorical_accuracy: 0.9959 - val_loss: 0.2479 - val_categorical_accuracy: 0.9619\n",
      "Epoch 58/200\n",
      "61/61 [==============================] - 5s 75ms/step - loss: 0.0371 - categorical_accuracy: 0.9897 - val_loss: 0.2509 - val_categorical_accuracy: 0.9703\n",
      "Epoch 59/200\n",
      "61/61 [==============================] - 5s 75ms/step - loss: 0.0288 - categorical_accuracy: 0.9933 - val_loss: 0.2114 - val_categorical_accuracy: 0.9661\n",
      "Epoch 60/200\n",
      "61/61 [==============================] - 5s 75ms/step - loss: 0.0302 - categorical_accuracy: 0.9943 - val_loss: 0.2153 - val_categorical_accuracy: 0.9619\n",
      "Epoch 61/200\n",
      "61/61 [==============================] - 5s 75ms/step - loss: 0.0585 - categorical_accuracy: 0.9850 - val_loss: 0.2900 - val_categorical_accuracy: 0.9449\n",
      "Epoch 62/200\n",
      "61/61 [==============================] - 5s 75ms/step - loss: 0.0376 - categorical_accuracy: 0.9907 - val_loss: 0.3229 - val_categorical_accuracy: 0.9449\n",
      "Epoch 63/200\n",
      "61/61 [==============================] - 5s 75ms/step - loss: 0.2622 - categorical_accuracy: 0.9607 - val_loss: 0.2254 - val_categorical_accuracy: 0.9449\n",
      "Epoch 64/200\n",
      "61/61 [==============================] - 5s 75ms/step - loss: 0.0664 - categorical_accuracy: 0.9783 - val_loss: 0.1849 - val_categorical_accuracy: 0.9746\n",
      "Epoch 65/200\n",
      "61/61 [==============================] - 5s 75ms/step - loss: 0.0467 - categorical_accuracy: 0.9850 - val_loss: 0.2124 - val_categorical_accuracy: 0.9534\n",
      "Epoch 66/200\n",
      "61/61 [==============================] - 5s 75ms/step - loss: 0.0506 - categorical_accuracy: 0.9855 - val_loss: 0.2477 - val_categorical_accuracy: 0.9449\n",
      "Epoch 67/200\n",
      "61/61 [==============================] - 5s 75ms/step - loss: 0.0298 - categorical_accuracy: 0.9902 - val_loss: 0.2721 - val_categorical_accuracy: 0.9492\n"
     ]
    }
   ],
   "source": [
    "# Training the model\n",
    "history = model.fit(\n",
    "    ds_train,\n",
    "    validation_data= ds_valid,\n",
    "    epochs= 200,\n",
    "    callbacks=[early_stopping],\n",
    "   )"
   ]
  },
  {
   "cell_type": "code",
   "execution_count": 21,
   "metadata": {
    "execution": {
     "iopub.execute_input": "2024-03-22T13:40:21.540403Z",
     "iopub.status.busy": "2024-03-22T13:40:21.540119Z",
     "iopub.status.idle": "2024-03-22T13:40:22.180961Z",
     "shell.execute_reply": "2024-03-22T13:40:22.180323Z",
     "shell.execute_reply.started": "2024-03-22T13:40:21.540371Z"
    }
   },
   "outputs": [],
   "source": [
    "model.save(\"model_VGG19.keras\")"
   ]
  },
  {
   "cell_type": "markdown",
   "metadata": {},
   "source": [
    "### 6.2 Evaluate the training"
   ]
  },
  {
   "cell_type": "code",
   "execution_count": 10,
   "metadata": {
    "execution": {
     "iopub.execute_input": "2024-03-22T13:23:27.536301Z",
     "iopub.status.busy": "2024-03-22T13:23:27.535514Z",
     "iopub.status.idle": "2024-03-22T13:23:28.177688Z",
     "shell.execute_reply": "2024-03-22T13:23:28.176985Z",
     "shell.execute_reply.started": "2024-03-22T13:23:27.536265Z"
    }
   },
   "outputs": [
    {
     "data": {
      "image/png": "[encoded data removed]",
      "text/plain": [
       "<Figure size 432x288 with 1 Axes>"
      ]
     },
     "metadata": {
      "needs_background": "light"
     },
     "output_type": "display_data"
    },
    {
     "data": {
      "image/png": "[encoded data removed]",
      "text/plain": [
       "<Figure size 432x288 with 1 Axes>"
      ]
     },
     "metadata": {
      "needs_background": "light"
     },
     "output_type": "display_data"
    }
   ],
   "source": [
    "# Make a pandas dataframe so plots can be made from the model\n",
    "history_frame = pd.DataFrame(history.history)\n",
    "\n",
    "# Loss curve\n",
    "history_frame.loc[:, ['loss', 'val_loss']].plot()\n",
    "plt.title('Model Loss')\n",
    "plt.ylabel('Loss')\n",
    "plt.xlabel('Epoch')\n",
    "plt.legend(['training loss', 'validation loss'])\n",
    "plt.show()\n",
    "\n",
    "# Accuracy curve\n",
    "history_frame.loc[:, ['categorical_accuracy', 'val_categorical_accuracy']].plot();\n",
    "plt.title('Model accuracy')\n",
    "plt.ylabel('Accuracy')\n",
    "plt.xlabel('Epoch')\n",
    "plt.legend(['training accuracy', 'validation accuracy'])\n",
    "plt.show()"
   ]
  },
  {
   "cell_type": "markdown",
   "metadata": {},
   "source": [
    "#### The curves\n",
    "At the start of the training the validation accuracy improves faster than the training accuracy. The validation set is very small so a small difference in training weights can create a huge difference in validation accuracy. After about 8 epochs the training and validation curves increase and decrease very similar to each other. We can see from the loss and accuracy curves that the training and validation data stay this close to each other for about 15 epochs. After 15 epochs the model is converging. The training loss is going down further, while the validation loss stays about the same. The same process can be observed from the accuracy curves, where the accuracy of training data is increasing, while the accuracy of the validation data stays about the same. Somewhere around this point, the model stops learning signal and starts learning noise. The code for the plots was adapted from stackoverflow (\"Keras - Plot training, validation and test set accuracy,\" n.d.).\n",
    "\n",
    "Now let's take a look at the model we selected, the model with the lowest validation loss, and see what its metrics are."
   ]
  },
  {
   "cell_type": "code",
   "execution_count": 11,
   "metadata": {
    "execution": {
     "iopub.execute_input": "2024-03-22T13:23:35.610636Z",
     "iopub.status.busy": "2024-03-22T13:23:35.610027Z",
     "iopub.status.idle": "2024-03-22T13:23:35.621459Z",
     "shell.execute_reply": "2024-03-22T13:23:35.620732Z",
     "shell.execute_reply.started": "2024-03-22T13:23:35.610602Z"
    }
   },
   "outputs": [
    {
     "data": {
      "text/html": [
       "<div>\n",
       "<style scoped>\n",
       "    .dataframe tbody tr th:only-of-type {\n",
       "        vertical-align: middle;\n",
       "    }\n",
       "\n",
       "    .dataframe tbody tr th {\n",
       "        vertical-align: top;\n",
       "    }\n",
       "\n",
       "    .dataframe thead th {\n",
       "        text-align: right;\n",
       "    }\n",
       "</style>\n",
       "<table border=\"1\" class=\"dataframe\">\n",
       "  <thead>\n",
       "    <tr style=\"text-align: right;\">\n",
       "      <th></th>\n",
       "      <th>loss</th>\n",
       "      <th>categorical_accuracy</th>\n",
       "      <th>val_loss</th>\n",
       "      <th>val_categorical_accuracy</th>\n",
       "    </tr>\n",
       "  </thead>\n",
       "  <tbody>\n",
       "    <tr>\n",
       "      <th>36</th>\n",
       "      <td>0.052577</td>\n",
       "      <td>0.986054</td>\n",
       "      <td>0.16644</td>\n",
       "      <td>0.970339</td>\n",
       "    </tr>\n",
       "  </tbody>\n",
       "</table>\n",
       "</div>"
      ],
      "text/plain": [
       "        loss  categorical_accuracy  val_loss  val_categorical_accuracy\n",
       "36  0.052577              0.986054   0.16644                  0.970339"
      ]
     },
     "execution_count": 11,
     "metadata": {},
     "output_type": "execute_result"
    }
   ],
   "source": [
    "# metrics of the selected model\n",
    "history_frame[history_frame.val_loss == history_frame.val_loss.min()]"
   ]
  },
  {
   "cell_type": "markdown",
   "metadata": {},
   "source": [
    "#### The selected model\n",
    "The selected model is a little different every time the code is ran. However, the validation accuracy is always around 95%, sometimes a little lower and sometimes a little higher. This shows great promise for the model. Based on this accuracy, we expect the model to do very well on the testset. Before we look at the testset we check whether there were any patterns within the prediction of the model by looking at the confusion matrix of the training data. The code for the confusion matrix was adapted from stackoverflow (Scikit-learn, n.d). "
   ]
  },
  {
   "cell_type": "code",
   "execution_count": 23,
   "metadata": {
    "_kg_hide-input": true,
    "execution": {
     "iopub.execute_input": "2024-03-22T13:48:25.235645Z",
     "iopub.status.busy": "2024-03-22T13:48:25.235302Z",
     "iopub.status.idle": "2024-03-22T13:48:30.045300Z",
     "shell.execute_reply": "2024-03-22T13:48:30.044594Z",
     "shell.execute_reply.started": "2024-03-22T13:48:25.235611Z"
    }
   },
   "outputs": [
    {
     "name": "stdout",
     "output_type": "stream",
     "text": [
      "['bb = black Bishop', 'bk = black King', 'bn = black Knight', 'bp = black Pawn', 'bq = black Queen', 'br = black Rook', 'emp = Empty', 'wb = white Bishop', 'wk = white King', 'wn = white Knight', 'wp = white Pawn', 'wq = white Queen', 'wr = white Rook']\n"
     ]
    },
    {
     "data": {
      "image/png": "[encoded data removed]",
      "text/plain": [
       "<Figure size 1296x648 with 2 Axes>"
      ]
     },
     "metadata": {
      "needs_background": "light"
     },
     "output_type": "display_data"
    }
   ],
   "source": [
    "# Get the labels from the training data\n",
    "array_train = get_labels_from_tfdataset(ds_train)\n",
    "# Get the class probabilities from the model prediction on the training data\n",
    "y_pred_train_prob = model.predict(ds_train)\n",
    "# Use the class probabilities from the model prediction to get class predictions\n",
    "y_pred_train = np.argmax(y_pred_train_prob,axis=1)\n",
    "\n",
    "# Get the true values of the training data\n",
    "y_true_train = np.argmax(array_train,axis=1)\n",
    "\n",
    "# Create a confusion matrix of the true classes compared to the predicted classes\n",
    "cm_train = confusion_matrix(y_pred_train, y_true_train)\n",
    "\n",
    "# now we plot the confusion matrix for the training data\n",
    "plt.figure(figsize=(18,9))\n",
    "ax_train = plt.subplot()\n",
    "# annot=True to annotate cells, ftm='g' to disable scientific notation\n",
    "sns.heatmap(cm_train, annot=True, fmt='g', ax=ax_train);  \n",
    "\n",
    "# labels, title and ticks\n",
    "ax_train.set_xlabel('Predicted labels');\n",
    "ax_train.set_ylabel('True labels'); \n",
    "ax_train.set_title('Confusion Matrix Train Data');\n",
    "ax_train.xaxis.set_ticklabels(['bb', 'bk', \"bn\", \"bp\", \"bq\", \"br\", \"empty\", \"wb\", \"wk\", \"wn\", \"wp\", \"wq\", \"wr\"]);\n",
    "ax_train.yaxis.set_ticklabels(['bb', 'bk', \"bn\", \"bp\", \"bq\", \"br\", \"empty\", \"wb\", \"wk\", \"wn\", \"wp\", \"wq\", \"wr\"]);\n",
    "\n",
    "# This serves as a legend which is too big for the plot\n",
    "print(['bb = black Bishop', 'bk = black King', \"bn = black Knight\",\n",
    "                \"bp = black Pawn\", \"bq = black Queen\", \"br = black Rook\",\n",
    "                \"emp = Empty\", \"wb = white Bishop\", \"wk = white King\",\n",
    "                \"wn = white Knight\",\"wp = white Pawn\", \"wq = white Queen\",\n",
    "                \"wr = white Rook\"])"
   ]
  },
  {
   "cell_type": "markdown",
   "metadata": {},
   "source": [
    "#### Class Accuracy\n",
    "Almost all predictions on the trainingset were correct. There is no pattern observed in any specific prediction for a class of pieces. We expect the model to predict the class of pieces accurately in the testset. Furthermore, we expect there to be no particular patterns with wrong predictions."
   ]
  },
  {
   "cell_type": "markdown",
   "metadata": {},
   "source": [
    "## 7. Model Performance on the Test Set\n",
    "\n",
    "In the following, we will use our trained model on a new data set it has not seen before: the test data. We first get the predicted values for the \"test data\" from our model with the model.predict function. Model.predict returns 13 probabilities for each picture (that is the outcome of the Softmax function). We choose the category with the highest probability which provides us with the predicted test classes. We compare the predicted classes with the true classes in a confusion matrix to see how well our model could predict the classes of the test data. To look more closely at the different class predictions, we also take a look at the classification report of the model."
   ]
  },
  {
   "cell_type": "code",
   "execution_count": 13,
   "metadata": {
    "execution": {
     "iopub.execute_input": "2024-03-22T13:23:53.962497Z",
     "iopub.status.busy": "2024-03-22T13:23:53.962209Z",
     "iopub.status.idle": "2024-03-22T13:23:56.847984Z",
     "shell.execute_reply": "2024-03-22T13:23:56.847312Z",
     "shell.execute_reply.started": "2024-03-22T13:23:53.962463Z"
    }
   },
   "outputs": [
    {
     "name": "stdout",
     "output_type": "stream",
     "text": [
      "['bb = black Bishop', 'bk = black King', 'bn = black Knight', 'bp = black Pawn', 'bq = black Queen', 'br = black Rook', 'emp = Empty', 'wb = white Bishop', 'wk = white King', 'wn = white Knight', 'wp = white Pawn', 'wq = white Queen', 'wr = white Rook']\n"
     ]
    },
    {
     "data": {
      "image/png": "[encoded data removed]",
      "text/plain": [
       "<Figure size 1296x648 with 2 Axes>"
      ]
     },
     "metadata": {
      "needs_background": "light"
     },
     "output_type": "display_data"
    }
   ],
   "source": [
    "# Get the labels from the test data\n",
    "array_test = get_labels_from_tfdataset(ds_test)\n",
    "# Get the class probabilities from the model prediction on the test data\n",
    "y_pred_test_prob = model.predict(ds_test)\n",
    "# Use the class probabilities from the model prediction to get class predictions\n",
    "y_pred_test = np.argmax(y_pred_test_prob, axis=1)\n",
    "\n",
    "# Get the true values of the training data\n",
    "y_true_test = np.argmax(array_test,axis=1)\n",
    "\n",
    "# Create a confusion matrix of the true classes compared to the predicted classes\n",
    "cm_test = confusion_matrix(y_pred_test, y_true_test)\n",
    "\n",
    "# now we plot the confusion matrix for the test data\n",
    "plt.figure(figsize=(18,9))\n",
    "ax_test = plt.subplot()\n",
    "# annot=True to annotate cells, ftm='g' to disable scientific notation\n",
    "sns.heatmap(cm_test, annot=True, fmt='g', ax=ax_test);\n",
    "\n",
    "# labels, title and ticks\n",
    "ax_test.set_xlabel('Predicted labels');\n",
    "ax_test.set_ylabel('True labels'); \n",
    "ax_test.set_title('Confusion Matrix Test Data');\n",
    "ax_test.xaxis.set_ticklabels(['bb', 'bk', \"bn\", \"bp\", \"bq\", \"br\", \"emp\", \"wb\", \"wk\", \"wn\", \"wp\", \"wq\", \"wr\"]);\n",
    "ax_test.yaxis.set_ticklabels(['bb', 'bk', \"bn\", \"bp\", \"bq\", \"br\", \"emp\", \"wb\", \"wk\", \"wn\", \"wp\", \"wq\", \"wr\"]);\n",
    "\n",
    "\n",
    "# This serves as a legend which is too big for the plot\n",
    "print(['bb = black Bishop', 'bk = black King', \"bn = black Knight\",\n",
    "                \"bp = black Pawn\", \"bq = black Queen\", \"br = black Rook\",\n",
    "                \"emp = Empty\", \"wb = white Bishop\", \"wk = white King\",\n",
    "                \"wn = white Knight\",\"wp = white Pawn\", \"wq = white Queen\",\n",
    "                \"wr = white Rook\"])"
   ]
  },
  {
   "cell_type": "markdown",
   "metadata": {},
   "source": [
    "\n",
    "### 7.1  Confusion Matrix\n",
    "\n",
    "We create a confusion matrix of the model with the confusion_matrix function. Due to aestetic reasons we did not plot the full names of each category or figure as this did not fit on the axes. Instead, a print statement with the proper labels is added.\n",
    "\n",
    "It can be seen from the confusion matrix that the model performs very well on the test data. Almost all predictions on the test data were correct with only a few cases misspecified. It seems that more incorrect predictions are located on the right side of the plot which resembles white pieces. Even though there are not enough images misspecified to call this a clear pattern, it is still an interesting observation. One potential explanation could be that light reflections of the white board led to inconsistencies with white pieces and less with black pieces. However, first a testset with more data should be used to re-evaluate if this \"pattern\" appears consistenly within the data."
   ]
  },
  {
   "cell_type": "code",
   "execution_count": 14,
   "metadata": {
    "execution": {
     "iopub.execute_input": "2024-03-22T13:24:00.310160Z",
     "iopub.status.busy": "2024-03-22T13:24:00.309653Z",
     "iopub.status.idle": "2024-03-22T13:24:00.322074Z",
     "shell.execute_reply": "2024-03-22T13:24:00.321265Z",
     "shell.execute_reply.started": "2024-03-22T13:24:00.310127Z"
    }
   },
   "outputs": [
    {
     "name": "stdout",
     "output_type": "stream",
     "text": [
      "               precision    recall  f1-score   support\n",
      "\n",
      " black Bishop     1.0000    1.0000    1.0000        20\n",
      "   black King     1.0000    0.9091    0.9524        11\n",
      " black Knight     0.9412    1.0000    0.9697        16\n",
      "   black Pawn     1.0000    1.0000    1.0000        19\n",
      "  black Queen     1.0000    1.0000    1.0000        18\n",
      "   black Rook     1.0000    1.0000    1.0000        18\n",
      "        Empty     1.0000    1.0000    1.0000        21\n",
      " white Bishop     0.9524    0.8333    0.8889        24\n",
      "   white King     0.7273    1.0000    0.8421         8\n",
      " white Knight     0.8500    0.9444    0.8947        18\n",
      "   white Pawn     0.8421    0.9412    0.8889        17\n",
      "  white Queen     1.0000    0.8636    0.9268        22\n",
      "   white Rook     0.9524    0.9091    0.9302        22\n",
      "\n",
      "     accuracy                         0.9487       234\n",
      "    macro avg     0.9435    0.9539    0.9457       234\n",
      " weighted avg     0.9543    0.9487    0.9493       234\n",
      "\n",
      "total accuracy 0.9487179487179487\n"
     ]
    }
   ],
   "source": [
    "# Creating a list of all the possible classes\n",
    "target_names = ['black Bishop', 'black King', \"black Knight\",\n",
    "                \"black Pawn\", \"black Queen\", \"black Rook\",\n",
    "                \"Empty\", \" white Bishop\", \"white King\",\n",
    "                \"white Knight\",\"white Pawn\", \"white Queen\",\n",
    "                \"white Rook\"]\n",
    "\n",
    "# Making a classifcation report on the test data\n",
    "print(classification_report(y_pred_test, y_true_test, target_names = target_names, digits = 4))\n",
    "# Printing the overall accuracy of the model on the test data\n",
    "print(\"total accuracy\",accuracy_score(y_pred_test, y_true_test))"
   ]
  },
  {
   "cell_type": "markdown",
   "metadata": {},
   "source": [
    "\n",
    "### 7.2 Classification Report \n",
    "\n",
    "The model performed very well on the test data. However, we are still interested to see where the model is actually lacking. Which classes contain more false positives and which classes contain more false negatives? To answer this question we use the classification_report function, to see how the model made most of its classification mistakes. From the classification report we can see how exactly our model performed on the test data. \n",
    "\n",
    "- Precision gives an indication about how the network performed. It is defined as the ratio of true positives (classifying a piece correctly) divided by the sum of true and false positives (\"Understanding the classification report through sklearn,\" n.d.). It can be seen that white pieces are classified with less precision compared to black pieces. The precision of the model overall is very good.  \n",
    "- Recall is definded as the propostion of true positives divided by the sum of true positives and false negatives (not detecting a specific piece correctly) (\"Understanding the classification report through sklearn,\" n.d.). The recall of the model overall is very good with no specific differences between pieces.\n",
    "- The F1 scores are the harmonic means between recall and precision such that the best score is 1.0 and the worst is 0.0 (\"Understanding the classification report through sklearn,\" n.d.). Most scores are above .95, with a little lower scores for white pieces compared to black pieces. The F1 scores of the model overall is very good.\n",
    "\n",
    "On average, the model performs very well on all these metrices. The question arises why the model classifies black pieces a little more precise than white pieces. We did not see the imbalance of white and black pieces in the training set. A larger testset is needed to check whether this pattern is consistent with our chosen model.\n",
    "\n",
    "The total accuracy is a little different every time the code is ran. However, the test accuracy is always around 95%, sometimes a little lower and sometimes a little higher. This is very similar to the accuracy of the validation set, which is exactly why this was used for training. A very high accuracy on the test data shows that training has done a good job of learning signal without learning too much noise. "
   ]
  },
  {
   "cell_type": "markdown",
   "metadata": {},
   "source": [
    "## 8. Application: How does the model perform on a different real life chess set?\n",
    "\n",
    "At this stage, we were satisfied with our parameter tuning and how well our model performed. Our end goal was to produce a neural network that could classify chess pieces in the real world, so to see how close we were to this goal, we looked to see how well our network would perform on images of a different chess set.  \n",
    "\n",
    "We begun collecting data ourselves. We took 120 photographs across 2 different chess sets. There were 60 photos per board, 30 pictures of black pieces and 30 of white pieces, resulting in 5 pictures per type of chess piece.\n",
    "\n",
    "Below you can see an example of our application dataset compared to the dataset the model was trained on. On the left are images from the original dataset, in the middle are images from the first application board and on the right are images from the second application board. Notable differences between the two datasets are the following: \n",
    "1. the pieces in the new dataset are all the same, only the boards differ \n",
    "2. the board colours are different \n",
    "3. the specific shapes of the pieces vary quite a lot between the new and original data \n",
    "4. the quality of images in the new dataset is much higher"
   ]
  },
  {
   "cell_type": "code",
   "execution_count": null,
   "metadata": {
    "_kg_hide-input": true,
    "execution": {
     "iopub.execute_input": "2021-12-20T20:07:10.336728Z",
     "iopub.status.busy": "2021-12-20T20:07:10.33647Z",
     "iopub.status.idle": "2021-12-20T20:07:10.360105Z",
     "shell.execute_reply": "2021-12-20T20:07:10.359417Z",
     "shell.execute_reply.started": "2021-12-20T20:07:10.336699Z"
    }
   },
   "outputs": [],
   "source": [
    "Image(filename=\"../input/different-boards/different chess boards.jpeg\", width = 400)"
   ]
  },
  {
   "cell_type": "markdown",
   "metadata": {},
   "source": [
    "### 8.1 Loading in the Application Data\n",
    "\n",
    "Just like we did with the other datasets in the notebook, we load in our data with the image_dataset_from_directory function and normalize our images with the convert_to_float function."
   ]
  },
  {
   "cell_type": "code",
   "execution_count": null,
   "metadata": {
    "execution": {
     "iopub.execute_input": "2021-12-21T01:18:32.138531Z",
     "iopub.status.busy": "2021-12-21T01:18:32.138257Z",
     "iopub.status.idle": "2021-12-21T01:18:32.283941Z",
     "shell.execute_reply": "2021-12-21T01:18:32.283212Z",
     "shell.execute_reply.started": "2021-12-21T01:18:32.1385Z"
    }
   },
   "outputs": [],
   "source": [
    "# Load in the application data\n",
    "ds_application = image_dataset_from_directory(\n",
    "   '../input/dataapplication/Application_data',\n",
    "    labels='inferred',         # same labels as map labels\n",
    "    label_mode='categorical',  # categorical data\n",
    "    image_size=[224, 224],\n",
    "    interpolation='nearest',   # used for small image size\n",
    "    batch_size=32,\n",
    "    shuffle=True,              # classes are randomized\n",
    ")\n",
    "\n",
    "# Normalize images from the application data\n",
    "AUTOTUNE = tf.data.experimental.AUTOTUNE\n",
    "ds_application = (\n",
    "    ds_application\n",
    "   .map(convert_to_float)\n",
    "   .cache()\n",
    "   .prefetch(buffer_size=AUTOTUNE)\n",
    ")"
   ]
  },
  {
   "cell_type": "markdown",
   "metadata": {},
   "source": [
    "### 8.2 Model Performance on Application Data\n",
    "\n",
    "Just like with the test data, we can now take a look at the model perfomance on these application data by looking at the confusion matrix and the classification report.\n",
    "\n",
    "#### Confusion Matrix"
   ]
  },
  {
   "cell_type": "code",
   "execution_count": null,
   "metadata": {
    "execution": {
     "iopub.execute_input": "2021-12-21T02:57:49.153531Z",
     "iopub.status.busy": "2021-12-21T02:57:49.153166Z",
     "iopub.status.idle": "2021-12-21T02:57:51.213548Z",
     "shell.execute_reply": "2021-12-21T02:57:51.212922Z",
     "shell.execute_reply.started": "2021-12-21T02:57:49.153497Z"
    }
   },
   "outputs": [],
   "source": [
    "# Get the labels from the application data\n",
    "array_application = get_labels_from_tfdataset(ds_application)\n",
    "# Get the class probabilities from the model prediction on the application data\n",
    "y_pred_application_prob = model.predict(ds_application)\n",
    "# Use the class probabilities from the model prediction to get class predictions\n",
    "y_pred_application = np.argmax(y_pred_application_prob, axis=1)\n",
    "\n",
    "# Get the true values of the application data\n",
    "y_true_application = np.argmax(array_application,axis=1)\n",
    "\n",
    "# Create a confusion matrix of the true classes compared to the predicted classes\n",
    "cm = confusion_matrix(y_pred_application, y_true_application)\n",
    "\n",
    "# Now we plot the confusion matrix for the application data\n",
    "plt.figure(figsize=(15,7.5))\n",
    "ax_application = plt.subplot()\n",
    "# annot=True to annotate cells, ftm='g' to disable scientific notation\n",
    "sns.heatmap(cm, annot=True, fmt='g', ax=ax_application);\n",
    "\n",
    "# labels, title and ticks\n",
    "ax_application.set_xlabel('Predicted labels');\n",
    "ax_application.set_ylabel('True labels'); \n",
    "ax_application.set_title('Confusion Matrix Application Data');\n",
    "ax_application.xaxis.set_ticklabels(['bb', 'bk', \"bn\", \"bp\", \"bq\", \"br\", \"empty\", \"wb\", \"wk\", \"wn\", \"wp\", \"wq\", \"wr\"]);\n",
    "ax_application.yaxis.set_ticklabels(['bb', 'bk', \"bn\", \"bp\", \"bq\", \"br\", \"empty\", \"wb\", \"wk\", \"wn\", \"wp\", \"wq\", \"wr\"]);"
   ]
  },
  {
   "cell_type": "markdown",
   "metadata": {},
   "source": [
    "#### Classification Report "
   ]
  },
  {
   "cell_type": "code",
   "execution_count": null,
   "metadata": {
    "execution": {
     "iopub.execute_input": "2021-12-21T02:57:56.186471Z",
     "iopub.status.busy": "2021-12-21T02:57:56.185958Z",
     "iopub.status.idle": "2021-12-21T02:57:56.198594Z",
     "shell.execute_reply": "2021-12-21T02:57:56.197735Z",
     "shell.execute_reply.started": "2021-12-21T02:57:56.186433Z"
    }
   },
   "outputs": [],
   "source": [
    "# Creating a list of all the possible classes\n",
    "target_names = ['bb', 'bk', \"bn\", \"bp\", \"bq\", \"br\", \"empty\", \"wb\", \"wk\", \"wn\", \"wp\", \"wq\", \"wr\"]\n",
    "# Making a classifcation report on the application data\n",
    "print(classification_report(y_pred_application, y_true_application, target_names=target_names, digits=4))\n",
    "\n",
    "# Printing the overall accuracy of the model on the application data\n",
    "print(\"total accuracy\",accuracy_score(y_pred_application, y_true_application))"
   ]
  },
  {
   "cell_type": "markdown",
   "metadata": {},
   "source": [
    "#### Evaluation\n",
    "\n",
    "It can easily be detected that the trained model did a poor job on the application data set. The confusion matrix shows very bad predictions for the specific classes. It looks like the model could not find the right classes and instead guessed a lot of the same classes multiple times throughout its prediction, while not guessing certain other classes at all. For instance the black queen was never predicted by the model, while an empty board was predicted a lot by the model.\n",
    "\n",
    "The classification report reaffirms what the confusion matrix indicates. The model did a poor job on the application data set. For a lot of pieces the precision is 0, which means that none of the pieces were correctly identified. About half of the classes have an F1 score of 0 which means a very bad relation between recall and precision.  \n",
    "\n",
    "The total accuracy is a little different every time the code is ran. However, the overall application accuracy is always around 25%, sometimes a little lower and sometimes a little higher. Therefore we can conclude that the model did not generalise well with respect to our own chess boards. We can conclude that we are not yet at the goal of using this model in the real world. We would have to train a model that is more robust against background changes and possibly also little changes in pieces. The next step would be to include pictures from different chess sets and chess boards to increase generalisability of the trained model."
   ]
  },
  {
   "cell_type": "markdown",
   "metadata": {},
   "source": [
    "# Conclusion\n",
    "\n",
    "We started out this project with the idea of creating a model that could transform a real life chess board position into a FEN description. By putting the FEN description into a computer program, a real life chess game could be played out online. This project focussed on the first stage of creating such a model: a convolutional neural network that could identify the different chess pieces.\n",
    "\n",
    "#### Summary Results\n",
    "A model was trained on a dataset of 1936 images of chess pieces from the same chess set. The final model was selected using validation loss and had a validation accuracy of about 95%. No specific patterns in wrong predictions could be identified from the training classification. \n",
    "<br> The trained model performed very well on the testset, with a similar accuracy as the validation set: about 95%. Looking at missclassified pieces there were a little more wrong predictions for white pieces compared to black pieces, but the test set was too small to confirm a consistent pattern.\n",
    "<br> To see how close the model was to be used in the real world, we collected our own dataset with a different chess set. The model did not generalize well on the  chess application data with only about 25% prediction accuracy.  \n",
    "\n",
    "#### Final Notes\n",
    "Overall we think that the training of the model on this dataset was a succes. We were able to create a model that could very accurately identify different chess pieces on similar chess boards. Underwood (2020) did not give an overall accuracy of his model. After replicating his exact model and looking at his reported confusion matrix we found that Underwood could get a model with an accuracy of about 89-91%. So we improved his model by 4-6%! It is also important to note that Underwood uses only 10 epochs to combat overfitting, while we use a validation set and early stopping to combat overfitting. Our model is therefore a bit more consistent and stable in the selection of the final model. \n",
    "\n",
    "The only problem with the model is that it did not generalize well to data from different types of chess boards. The dataset was not variable enough to account for differences in chess sets. This is something we we have to account for in further research by incorporating images of different chess boards in our training process.   \n",
    "\n",
    "After this process is repeated with a more all around dataset, we can move on to the next stage and create a network that can identify the different squares of the chess board. In this way we can combine the networks to create a model that can create a FEN description from a picture of a real life chess board position. The FEN description could be loaded into a computer and a real life chess game could be played out online. A handy tool in these times of the corona virus, where we are constantly switching between real life contact and contact online."
   ]
  },
  {
   "cell_type": "markdown",
   "metadata": {},
   "source": [
    "### References \n",
    "\n",
    "\n",
    "*Automatic localization of casting defects with convolutional neural networks.* (n.d). ResearchGate. Retrieved December 7, 2021, from .https://www.researchgate.net/figure/Fig-A1-The-standard-VGG-16-network-architecture-as-proposed-in-32-Note-that-only_fig3_322512435 \n",
    "\n",
    "Cook, A., Holbrook, R. (n.d.). *The Convolutional Classifier.* Kaggle. Retrieved December 10, 2021, from https://www.kaggle.com/ryanholbrook/the-convolutional-classifier\n",
    "\n",
    "*Code faster with line-of-code completions, cloudless processing.* (n.d.). Kite - Free AI Coding Assistant and Code Auto-Complete Plugin. https://www.kite.com/python/answers/how-to-count-frequency-of-unique-values-in-a-numpy-array-in-python\n",
    "\n",
    "*Extract target from TensorFlow PrefetchDataset.* (n.d). Stack Overflow. Retrieved December 7, 2021, from https://stackoverflow.com/questions/62436302/extract-target-from-tensorflow-prefetchdataset \n",
    "\n",
    "Hunter, G., Dale, D., Firing, E., Droettboom, M. (n.d.) *Interpolations for imshow.* Matplotlib. Retrieved December 17, 2021, from https://matplotlib.org/stable/gallery/images_contours_and_fields/interpolation_methods.html\n",
    "\n",
    "James, G., Witten, D., Hastie, T., & Tibshirani, R. (2013). *An Introduction to Statistical Learning*, (Vol. 112, p. 18). New York: springer.\n",
    "\n",
    "*Keras -Plot training, validation and test set accuracy*. (n.d). Stack Overflow. Retrieved December 7, 2021, from https://stackoverflow.com/questions/41908379/keras-plot-training-validation-and-test-set-accuracy\n",
    "\n",
    "Koryakin, P. *Chess Positions: Recognise chess position of 5-15 pieces*, [Data set], Retrieved December 7, 2021, from https://www.kaggle.com/koryakinp/chess-positions\n",
    "\n",
    "Mitchell, J. *Chess Game Dataset (Lichess).*  (n.d).  Kaggle. [Data set],  Retrieved December 4, 2021, from https://www.kaggle.com/datasnaek/chess\n",
    "Muthukrishnan – AI, Computer Vision and Mathematics. (2018, July 7)  \n",
    "\n",
    "*Understanding the classification report through sklearn*, https://muthu.co/understanding-the-classification-report-in-sklearn/\n",
    "Nunn, J. (2021, January 28). *Chess Under Covid*, Chess Base. https://en.chessbase.com/post/chess-under-covid\n",
    "\n",
    "Sandro, S. (2018). *Introduction to Deep Learning — From Logical Calculus to Artificial Intelligence*. Cham, Switzerland: Springer. ISSN 1863-7310, ISSN 2197-1781. https://doi.org/10.1007/978-3-319-73004-2\n",
    "\n",
    "*Scikit learn output metrics.classification_report into CSV/tab-delimited format.* (n.d). Stack Overflow. Retrieved December 20, 2021, from https://stackoverflow.com/questions/39662398/scikit-learn-output-metrics-classification-report-into-csv-tab-delimited-format\n",
    "\n",
    "Simonyan, K., & Zisserman, A. (2014). Very deep convolutional networks for large-scale image recognition. https://arxiv.org/abs/1409.1556\n",
    "\n",
    "*Sklearn plot confusion matrix with labels.* (n.d.). Stack Overflow. Retrieved December 20, 2021, from https://stackoverflow.com/questions/19233771/sklearn-plot-confusion-matrix-with-labels\n",
    "\n",
    "*Sklearn.metrics.confusion_matrix*. (n.d.). scikit-learn. Retrieved December 20, 2021, from https://scikit-learn.org/stable/modules/generated/sklearn.metrics.confusion_matrix.html\n",
    "\n",
    "Stewart, M. (2019, July 9). Simple Guide to Hyperparameter Tuning in Neural Networks, *Towards Data Science*. https://towardsdatascience.com/simple-guide-to-hyperparameter-tuning-in-neural-networks-3fe03dad8594\n",
    "\n",
    "Underwood, A. (2020, October 21). Board Game Image Recognition using Neural Networks, *Towards Data Science*  https://towardsdatascience.com/board-game-image-recognition-using-neural-networks-116fc876dafa\n",
    "\n"
   ]
  }
 ],
 "metadata": {
  "kaggle": {
   "accelerator": "gpu",
   "dataSources": [
    {
     "datasetId": 1791320,
     "sourceId": 2922174,
     "sourceType": "datasetVersion"
    },
    {
     "datasetId": 1791321,
     "sourceId": 2922175,
     "sourceType": "datasetVersion"
    },
    {
     "datasetId": 1791324,
     "sourceId": 2922179,
     "sourceType": "datasetVersion"
    },
    {
     "datasetId": 1799002,
     "sourceId": 2934314,
     "sourceType": "datasetVersion"
    },
    {
     "datasetId": 1808049,
     "sourceId": 2949083,
     "sourceType": "datasetVersion"
    },
    {
     "datasetId": 1809201,
     "sourceId": 2950885,
     "sourceType": "datasetVersion"
    },
    {
     "datasetId": 1809350,
     "sourceId": 2951135,
     "sourceType": "datasetVersion"
    }
   ],
   "dockerImageVersionId": 30153,
   "isGpuEnabled": true,
   "isInternetEnabled": true,
   "language": "python",
   "sourceType": "notebook"
  },
  "kernelspec": {
   "display_name": "Python 3 (ipykernel)",
   "language": "python",
   "name": "python3"
  },
  "language_info": {
   "codemirror_mode": {
    "name": "ipython",
    "version": 3
   },
   "file_extension": ".py",
   "mimetype": "text/x-python",
   "name": "python",
   "nbconvert_exporter": "python",
   "pygments_lexer": "ipython3",
   "version": "3.12.0"
  }
 },
 "nbformat": 4,
 "nbformat_minor": 4
}
